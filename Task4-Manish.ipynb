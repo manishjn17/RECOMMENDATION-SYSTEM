{
 "cells": [
  {
   "cell_type": "code",
   "execution_count": null,
   "id": "eebfeb48-941c-40f4-8641-89e4274e71ca",
   "metadata": {},
   "outputs": [],
   "source": [
    "#INSTALLING FROM CONDA\n",
    "!conda install -c conda-forge scikit-surprise"
   ]
  },
  {
   "cell_type": "code",
   "execution_count": null,
   "id": "702b3400-091e-4316-a452-a58fb9ee7712",
   "metadata": {},
   "outputs": [],
   "source": [
    "import pandas as pd\n",
    "import numpy as np\n",
    "import matplotlib.pyplot as plt\n",
    "import seaborn as sns\n",
    "from surprise import Dataset, Reader, SVD, KNNBasic\n",
    "from surprise.model_selection import train_test_split\n",
    "from surprise import accuracy"
   ]
  },
  {
   "cell_type": "code",
   "execution_count": null,
   "id": "403822db-f1e1-4e2e-84dc-6cb04067d844",
   "metadata": {},
   "outputs": [],
   "source": [
    "#LOADING DATASET\n",
    "\n",
    "def load_data():\n",
    "    print(\"DOWNLOAD DATA..\")\n",
    "    url = 'https://raw.githubusercontent.com/ashishpatel26/MovieLens-Small-Dataset/master/ratings.csv'\n",
    "    try:\n",
    "        df = pd.read_csv(url)\n",
    "        print(\"DATA LOADED FROM URL.\")\n",
    "        print(df.head())\n",
    "        return df\n",
    "    except Exception as e:\n",
    "        print(f\"Error loading dataset: {e}\")\n",
    "        return None"
   ]
  },
  {
   "cell_type": "code",
   "execution_count": null,
   "id": "c4d8f04b-b00e-47f8-b13e-9b9dd3cb105e",
   "metadata": {},
   "outputs": [],
   "source": [
    "# PREPROCESSING\n",
    "\n",
    "\n",
    "def preprocess_data(df):\n",
    "    print(f\"Initial Data Shape: {df.shape}\")\n",
    "    df = df.dropna()\n",
    "    print(f\"Data After Dropping Nulls: {df.shape}\")\n",
    "    \n",
    "    print(f\"Total Unique Users: {df['userId'].nunique()}\")\n",
    "    print(f\"Total Unique Movies: {df['movieId'].nunique()}\")\n",
    "    \n",
    "    return df"
   ]
  },
  {
   "cell_type": "code",
   "execution_count": null,
   "id": "67e09c8c-f296-4cb4-8a79-e6c89f584b27",
   "metadata": {},
   "outputs": [],
   "source": [
    "# BUILDING COLABORATIVE FILTERING MODEL \n",
    "\n",
    "\n",
    "def build_model(df, model_type='SVD'):\n",
    "    reader = Reader(rating_scale=(1, 5))\n",
    "    data = Dataset.load_from_df(df[['userId', 'movieId', 'rating']], reader)\n",
    "    trainset, testset = train_test_split(data, test_size=0.2)\n",
    "\n",
    "    print(f\"Training {model_type} Model...\")\n",
    "    if model_type == 'SVD':\n",
    "        model = SVD()\n",
    "    else:\n",
    "        sim_options = {'name': 'cosine', 'user_based': True}\n",
    "        model = KNNBasic(sim_options=sim_options)\n",
    "\n",
    "    model.fit(trainset)\n",
    "    predictions = model.test(testset)\n",
    "\n",
    "    print(f\"{model_type} RMSE: {accuracy.rmse(predictions)}\")\n",
    "    return model, predictions"
   ]
  },
  {
   "cell_type": "code",
   "execution_count": null,
   "id": "0b4fb491-80d7-4859-9d16-875db2fe27d8",
   "metadata": {},
   "outputs": [],
   "source": [
    "#VIZUALIZATION\n",
    "\n",
    "def visualize_results(predictions, model_type):\n",
    "    actual_ratings = [pred.r_ui for pred in predictions]\n",
    "    predicted_ratings = [pred.est for pred in predictions]\n",
    "    \n",
    "    plt.figure(figsize=(8, 6))\n",
    "    sns.scatterplot(x=actual_ratings, y=predicted_ratings, alpha=0.6)\n",
    "    plt.xlabel('Actual Ratings')\n",
    "    plt.ylabel('Predicted Ratings')\n",
    "    plt.title(f'{model_type} Model: Actual vs Predicted Ratings')\n",
    "    plt.grid(True)\n",
    "    plt.show()\n",
    "    "
   ]
  },
  {
   "cell_type": "code",
   "execution_count": null,
   "id": "e1be6315-da5a-4f9d-a588-41e64423b936",
   "metadata": {},
   "outputs": [],
   "source": [
    "#MAIN FUNCTION\n",
    "\n",
    "def main():\n",
    "    df = load_data()\n",
    "    if df is None:\n",
    "        return\n",
    "\n",
    "    df = preprocess_data(df)\n",
    "    \n",
    "    print(\"\\nBuilding and Evaluating SVD Model...\")\n",
    "    svd_model, svd_predictions = build_model(df, 'SVD')\n",
    "    visualize_results(svd_predictions, 'SVD')\n",
    "    \n",
    "    print(\"\\nBuilding and Evaluating KNN Model...\")\n",
    "    knn_model, knn_predictions = build_model(df, 'KNN')\n",
    "    visualize_results(knn_predictions, 'KNN')\n",
    "\n",
    "if __name__ == '__main__':\n",
    "    main()\n"
   ]
  },
  {
   "cell_type": "code",
   "execution_count": null,
   "id": "a7c9920c-eddc-4693-aba6-0e249727004c",
   "metadata": {},
   "outputs": [],
   "source": []
  },
  {
   "cell_type": "code",
   "execution_count": null,
   "id": "c54808a2-792b-446c-88b8-aa2fbaec360b",
   "metadata": {},
   "outputs": [],
   "source": []
  },
  {
   "cell_type": "code",
   "execution_count": null,
   "id": "82f75e94-92af-4de1-a1cf-56fdc70cbe91",
   "metadata": {},
   "outputs": [],
   "source": []
  }
 ],
 "metadata": {
  "kernelspec": {
   "display_name": "Python [conda env:base] *",
   "language": "python",
   "name": "conda-base-py"
  },
  "language_info": {
   "codemirror_mode": {
    "name": "ipython",
    "version": 3
   },
   "file_extension": ".py",
   "mimetype": "text/x-python",
   "name": "python",
   "nbconvert_exporter": "python",
   "pygments_lexer": "ipython3",
   "version": "3.12.7"
  }
 },
 "nbformat": 4,
 "nbformat_minor": 5
}
